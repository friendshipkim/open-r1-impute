{
 "cells": [
  {
   "cell_type": "code",
   "execution_count": 3,
   "metadata": {},
   "outputs": [],
   "source": [
    "import pickle\n",
    "policy_model = \"Qwen2.5-1.5B-Instruct\"\n",
    "reward_model = \"QRM-Llama3.1-8B-v2\"\n",
    "window = 100\n",
    "bsz = 32\n",
    "gen = 16\n",
    "seed = 42   \n",
    "\n",
    "filename = f\"{policy_model}_{reward_model}_window{window}_bsz{bsz}_gen{gen}_seed{seed}.pkl\"\n",
    "\n",
    "with open(filename, \"rb\") as f:\n",
    "    reward_outputs = pickle.load(f)"
   ]
  },
  {
   "cell_type": "code",
   "execution_count": 6,
   "metadata": {},
   "outputs": [
    {
     "data": {
      "text/plain": [
       "100"
      ]
     },
     "execution_count": 6,
     "metadata": {},
     "output_type": "execute_result"
    }
   ],
   "source": [
    "len(reward_outputs)"
   ]
  },
  {
   "cell_type": "code",
   "execution_count": 5,
   "metadata": {},
   "outputs": [
    {
     "data": {
      "text/plain": [
       "dict_keys(['step', 'input_ids', 'reward_quantiles', 'reward_detailed', 'reward_aggregated', 'hidden_states'])"
      ]
     },
     "execution_count": 5,
     "metadata": {},
     "output_type": "execute_result"
    }
   ],
   "source": [
    "# step: training step\n",
    "# input_ids: input ids of the prompt + completion, shape: (bsz, seq_len)\n",
    "# reward_quantiles: quantiles of the reward, shape: (bsz, 20)\n",
    "# reward_detailed: detailed reward ['helpsteer-helpfulness','helpsteer-correctness','helpsteer-coherence', 'helpsteer-complexity','helpsteer-verbosity'], shape: (bsz, 5)\n",
    "# reward_aggregated: aggregated reward, shape: (bsz,)\n",
    "reward_outputs[0].keys()"
   ]
  },
  {
   "cell_type": "code",
   "execution_count": 7,
   "metadata": {},
   "outputs": [
    {
     "data": {
      "text/plain": [
       "(32,)"
      ]
     },
     "execution_count": 7,
     "metadata": {},
     "output_type": "execute_result"
    }
   ],
   "source": [
    "reward_outputs[0]['reward_aggregated'].shape"
   ]
  }
 ],
 "metadata": {
  "kernelspec": {
   "display_name": "distill",
   "language": "python",
   "name": "python3"
  },
  "language_info": {
   "codemirror_mode": {
    "name": "ipython",
    "version": 3
   },
   "file_extension": ".py",
   "mimetype": "text/x-python",
   "name": "python",
   "nbconvert_exporter": "python",
   "pygments_lexer": "ipython3",
   "version": "3.11.9"
  }
 },
 "nbformat": 4,
 "nbformat_minor": 2
}
