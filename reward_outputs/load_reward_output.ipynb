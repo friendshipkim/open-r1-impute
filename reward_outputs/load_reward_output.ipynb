{
 "cells": [
  {
   "cell_type": "code",
   "execution_count": 1,
   "metadata": {},
   "outputs": [],
   "source": [
    "import pickle\n",
    "policy_model = \"Qwen2.5-1.5B-Instruct\"\n",
    "reward_model = \"QRM-Llama3.1-8B-v2\"\n",
    "window = 100\n",
    "n_prompts = 16\n",
    "n_gens = 16\n",
    "seed = 42   \n",
    "\n",
    "filename = f\"{policy_model}_{reward_model}_window{window}_prompt{n_prompts}_gen{n_gens}_seed{seed}.pkl\"\n",
    "\n",
    "with open(filename, \"rb\") as f:\n",
    "    reward_outputs = pickle.load(f)"
   ]
  },
  {
   "cell_type": "code",
   "execution_count": 2,
   "metadata": {},
   "outputs": [
    {
     "data": {
      "text/plain": [
       "100"
      ]
     },
     "execution_count": 2,
     "metadata": {},
     "output_type": "execute_result"
    }
   ],
   "source": [
    "len(reward_outputs)"
   ]
  },
  {
   "cell_type": "code",
   "execution_count": 3,
   "metadata": {},
   "outputs": [
    {
     "data": {
      "text/plain": [
       "dict_keys(['step', 'input_ids', 'reward_quantiles', 'reward_detailed', 'reward_aggregated', 'hidden_states'])"
      ]
     },
     "execution_count": 3,
     "metadata": {},
     "output_type": "execute_result"
    }
   ],
   "source": [
    "# step: training step\n",
    "# input_ids: input ids of the prompt + completion, shape: (n_prompts, n_gens, seq_len)\n",
    "# reward_quantiles: quantiles of the reward, shape: (n_prompts, n_gens, 19)\n",
    "# reward_detailed: detailed reward ['helpsteer-helpfulness','helpsteer-correctness','helpsteer-coherence', 'helpsteer-complexity','helpsteer-verbosity'], shape: (n_prompts, n_gens, 5)\n",
    "# reward_aggregated: aggregated reward, shape: (n_prompts, n_gens)\n",
    "# hidden_states: hidden states of the reward model, seq_len reduced, shape: (n_prompts, n_gens, hidden_size)\n",
    "reward_outputs[0].keys()"
   ]
  },
  {
   "cell_type": "code",
   "execution_count": 4,
   "metadata": {},
   "outputs": [
    {
     "data": {
      "text/plain": [
       "(16, 16, 1188)"
      ]
     },
     "execution_count": 4,
     "metadata": {},
     "output_type": "execute_result"
    }
   ],
   "source": [
    "reward_outputs[0]['input_ids'].shape"
   ]
  },
  {
   "cell_type": "code",
   "execution_count": 6,
   "metadata": {},
   "outputs": [
    {
     "data": {
      "text/plain": [
       "(16, 16, 4096)"
      ]
     },
     "execution_count": 6,
     "metadata": {},
     "output_type": "execute_result"
    }
   ],
   "source": [
    "reward_outputs[0]['hidden_states'].shape"
   ]
  },
  {
   "cell_type": "code",
   "execution_count": 7,
   "metadata": {},
   "outputs": [
    {
     "data": {
      "text/plain": [
       "(16, 16)"
      ]
     },
     "execution_count": 7,
     "metadata": {},
     "output_type": "execute_result"
    }
   ],
   "source": [
    "reward_outputs[0]['reward_aggregated'].shape"
   ]
  },
  {
   "cell_type": "code",
   "execution_count": null,
   "metadata": {},
   "outputs": [],
   "source": []
  }
 ],
 "metadata": {
  "kernelspec": {
   "display_name": "distill",
   "language": "python",
   "name": "python3"
  },
  "language_info": {
   "codemirror_mode": {
    "name": "ipython",
    "version": 3
   },
   "file_extension": ".py",
   "mimetype": "text/x-python",
   "name": "python",
   "nbconvert_exporter": "python",
   "pygments_lexer": "ipython3",
   "version": "3.11.9"
  }
 },
 "nbformat": 4,
 "nbformat_minor": 2
}
